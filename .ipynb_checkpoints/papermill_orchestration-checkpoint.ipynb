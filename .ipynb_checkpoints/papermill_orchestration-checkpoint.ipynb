{
 "cells": [
  {
   "cell_type": "code",
   "execution_count": 2,
   "id": "e3e7c0e7",
   "metadata": {},
   "outputs": [],
   "source": [
    "import papermill as pm"
   ]
  },
  {
   "cell_type": "code",
   "execution_count": 2,
   "id": "54880f2d",
   "metadata": {},
   "outputs": [
    {
     "data": {
      "application/vnd.jupyter.widget-view+json": {
       "model_id": "d15257ef365242799f5ef7f9be6071f1",
       "version_major": 2,
       "version_minor": 0
      },
      "text/plain": [
       "Executing:   0%|          | 0/4 [00:00<?, ?cell/s]"
      ]
     },
     "metadata": {},
     "output_type": "display_data"
    },
    {
     "data": {
      "text/plain": [
       "{'cells': [{'cell_type': 'code',\n",
       "   'execution_count': 1,\n",
       "   'id': '0b10713d',\n",
       "   'metadata': {'tags': ['parameters'],\n",
       "    'papermill': {'exception': False,\n",
       "     'start_time': '2021-09-30T16:48:04.904443',\n",
       "     'end_time': '2021-09-30T16:48:04.921993',\n",
       "     'duration': 0.01755,\n",
       "     'status': 'completed'},\n",
       "    'execution': {'iopub.status.busy': '2021-09-30T16:48:04.915377Z',\n",
       "     'iopub.execute_input': '2021-09-30T16:48:04.916357Z',\n",
       "     'iopub.status.idle': '2021-09-30T16:48:04.920958Z',\n",
       "     'shell.execute_reply': '2021-09-30T16:48:04.921993Z'}},\n",
       "   'outputs': [],\n",
       "   'source': \"name = 'ruan'\"},\n",
       "  {'id': '909adacf',\n",
       "   'cell_type': 'code',\n",
       "   'metadata': {'tags': ['injected-parameters'],\n",
       "    'papermill': {'exception': False,\n",
       "     'start_time': '2021-09-30T16:48:04.926995',\n",
       "     'end_time': '2021-09-30T16:48:04.952681',\n",
       "     'duration': 0.025686,\n",
       "     'status': 'completed'},\n",
       "    'execution': {'iopub.status.busy': '2021-09-30T16:48:04.934963Z',\n",
       "     'iopub.execute_input': '2021-09-30T16:48:04.934963Z',\n",
       "     'shell.execute_reply': '2021-09-30T16:48:04.952681Z',\n",
       "     'iopub.status.idle': '2021-09-30T16:48:04.952681Z'}},\n",
       "   'execution_count': 2,\n",
       "   'source': '# Parameters\\nname = \"anon2\"\\n',\n",
       "   'outputs': []},\n",
       "  {'cell_type': 'code',\n",
       "   'execution_count': 3,\n",
       "   'id': 'acb522cb',\n",
       "   'metadata': {'tags': [],\n",
       "    'papermill': {'exception': False,\n",
       "     'start_time': '2021-09-30T16:48:04.956723',\n",
       "     'end_time': '2021-09-30T16:48:04.984516',\n",
       "     'duration': 0.027793,\n",
       "     'status': 'completed'},\n",
       "    'execution': {'iopub.status.busy': '2021-09-30T16:48:04.964689Z',\n",
       "     'iopub.execute_input': '2021-09-30T16:48:04.965700Z',\n",
       "     'iopub.status.idle': '2021-09-30T16:48:04.984516Z',\n",
       "     'shell.execute_reply': '2021-09-30T16:48:04.984516Z'}},\n",
       "   'outputs': [{'output_type': 'stream', 'name': 'stdout', 'text': 'anon2\\n'}],\n",
       "   'source': 'print(name)'},\n",
       "  {'cell_type': 'code',\n",
       "   'execution_count': None,\n",
       "   'id': 'd2c40618',\n",
       "   'metadata': {'tags': [],\n",
       "    'papermill': {'exception': False,\n",
       "     'start_time': '2021-09-30T16:48:04.989045',\n",
       "     'end_time': '2021-09-30T16:48:04.992089',\n",
       "     'duration': 0.003044,\n",
       "     'status': 'completed'}},\n",
       "   'outputs': [],\n",
       "   'source': ''}],\n",
       " 'metadata': {'celltoolbar': 'Tags',\n",
       "  'kernelspec': {'display_name': 'Python 3 (ipykernel)',\n",
       "   'language': 'python',\n",
       "   'name': 'python3'},\n",
       "  'language_info': {'name': 'python',\n",
       "   'version': '3.7.10',\n",
       "   'mimetype': 'text/x-python',\n",
       "   'codemirror_mode': {'name': 'ipython', 'version': 3},\n",
       "   'pygments_lexer': 'ipython3',\n",
       "   'nbconvert_exporter': 'python',\n",
       "   'file_extension': '.py'},\n",
       "  'papermill': {'default_parameters': {},\n",
       "   'parameters': {'name': 'anon2'},\n",
       "   'environment_variables': {},\n",
       "   'version': '2.3.3',\n",
       "   'input_path': 'base_nb.ipynb',\n",
       "   'output_path': 'out_nb.ipynb',\n",
       "   'start_time': '2021-09-30T16:48:02.167959',\n",
       "   'end_time': '2021-09-30T16:48:05.238846',\n",
       "   'duration': 3.070887,\n",
       "   'exception': None}},\n",
       " 'nbformat': 4,\n",
       " 'nbformat_minor': 5}"
      ]
     },
     "execution_count": 2,
     "metadata": {},
     "output_type": "execute_result"
    }
   ],
   "source": [
    "pm.execute_notebook(\n",
    "                    input_path='base_nb.ipynb',\n",
    "                    output_path='out_nb.ipynb',\n",
    "                    parameters={'NAME':'anon3',\n",
    "                               'LIST':[1,2,3,4]},\n",
    "                   progress_bar=True,\n",
    "                   )"
   ]
  },
  {
   "cell_type": "code",
   "execution_count": 3,
   "id": "9aa1c4f3",
   "metadata": {},
   "outputs": [
    {
     "name": "stdout",
     "output_type": "stream",
     "text": [
      "done.\n"
     ]
    }
   ],
   "source": [
    "print('done.')"
   ]
  }
 ],
 "metadata": {
  "kernelspec": {
   "display_name": "Python 3 (ipykernel)",
   "language": "python",
   "name": "python3"
  },
  "language_info": {
   "codemirror_mode": {
    "name": "ipython",
    "version": 3
   },
   "file_extension": ".py",
   "mimetype": "text/x-python",
   "name": "python",
   "nbconvert_exporter": "python",
   "pygments_lexer": "ipython3",
   "version": "3.7.10"
  }
 },
 "nbformat": 4,
 "nbformat_minor": 5
}
