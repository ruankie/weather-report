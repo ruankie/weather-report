{
 "cells": [
  {
   "cell_type": "code",
   "execution_count": 1,
   "id": "0b10713d",
   "metadata": {
    "execution": {
     "iopub.execute_input": "2021-09-30T17:04:39.808846Z",
     "iopub.status.busy": "2021-09-30T17:04:39.807809Z",
     "iopub.status.idle": "2021-09-30T17:04:39.813993Z",
     "shell.execute_reply": "2021-09-30T17:04:39.813993Z"
    },
    "papermill": {
     "duration": 0.017053,
     "end_time": "2021-09-30T17:04:39.813993",
     "exception": false,
     "start_time": "2021-09-30T17:04:39.796940",
     "status": "completed"
    },
    "tags": [
     "parameters"
    ]
   },
   "outputs": [],
   "source": [
    "NAME = 'ruan'\n",
    "LIST = [1,2]"
   ]
  },
  {
   "cell_type": "code",
   "execution_count": 2,
   "id": "8e374200",
   "metadata": {
    "execution": {
     "iopub.execute_input": "2021-09-30T17:04:39.828650Z",
     "iopub.status.busy": "2021-09-30T17:04:39.828050Z",
     "iopub.status.idle": "2021-09-30T17:04:39.830204Z",
     "shell.execute_reply": "2021-09-30T17:04:39.829157Z"
    },
    "papermill": {
     "duration": 0.010243,
     "end_time": "2021-09-30T17:04:39.830204",
     "exception": false,
     "start_time": "2021-09-30T17:04:39.819961",
     "status": "completed"
    },
    "tags": [
     "injected-parameters"
    ]
   },
   "outputs": [],
   "source": [
    "# Parameters\n",
    "NAME = \"anon3\"\n",
    "LIST = [1, 2, 3, 4]\n"
   ]
  },
  {
   "cell_type": "code",
   "execution_count": 3,
   "id": "acb522cb",
   "metadata": {
    "execution": {
     "iopub.execute_input": "2021-09-30T17:04:39.842588Z",
     "iopub.status.busy": "2021-09-30T17:04:39.841568Z",
     "iopub.status.idle": "2021-09-30T17:04:39.860725Z",
     "shell.execute_reply": "2021-09-30T17:04:39.860725Z"
    },
    "papermill": {
     "duration": 0.025555,
     "end_time": "2021-09-30T17:04:39.860725",
     "exception": false,
     "start_time": "2021-09-30T17:04:39.835170",
     "status": "completed"
    },
    "tags": []
   },
   "outputs": [
    {
     "name": "stdout",
     "output_type": "stream",
     "text": [
      "anon3\n"
     ]
    }
   ],
   "source": [
    "print(NAME)"
   ]
  },
  {
   "cell_type": "code",
   "execution_count": 4,
   "id": "d2c40618",
   "metadata": {
    "execution": {
     "iopub.execute_input": "2021-09-30T17:04:39.873834Z",
     "iopub.status.busy": "2021-09-30T17:04:39.872805Z",
     "iopub.status.idle": "2021-09-30T17:04:39.891971Z",
     "shell.execute_reply": "2021-09-30T17:04:39.891971Z"
    },
    "papermill": {
     "duration": 0.026269,
     "end_time": "2021-09-30T17:04:39.891971",
     "exception": false,
     "start_time": "2021-09-30T17:04:39.865702",
     "status": "completed"
    },
    "tags": []
   },
   "outputs": [
    {
     "name": "stdout",
     "output_type": "stream",
     "text": [
      "1\n",
      "2\n",
      "3\n",
      "4\n"
     ]
    }
   ],
   "source": [
    "for i in LIST:\n",
    "    print(i)"
   ]
  },
  {
   "cell_type": "code",
   "execution_count": null,
   "id": "5cbc4f4d",
   "metadata": {
    "papermill": {
     "duration": 0.005009,
     "end_time": "2021-09-30T17:04:39.902062",
     "exception": false,
     "start_time": "2021-09-30T17:04:39.897053",
     "status": "completed"
    },
    "tags": []
   },
   "outputs": [],
   "source": []
  }
 ],
 "metadata": {
  "celltoolbar": "Tags",
  "kernelspec": {
   "display_name": "Python 3 (ipykernel)",
   "language": "python",
   "name": "python3"
  },
  "language_info": {
   "codemirror_mode": {
    "name": "ipython",
    "version": 3
   },
   "file_extension": ".py",
   "mimetype": "text/x-python",
   "name": "python",
   "nbconvert_exporter": "python",
   "pygments_lexer": "ipython3",
   "version": "3.7.10"
  },
  "papermill": {
   "default_parameters": {},
   "duration": 3.023846,
   "end_time": "2021-09-30T17:04:40.130097",
   "environment_variables": {},
   "exception": null,
   "input_path": "base_nb.ipynb",
   "output_path": "out_nb.ipynb",
   "parameters": {
    "LIST": [
     1,
     2,
     3,
     4
    ],
    "NAME": "anon3"
   },
   "start_time": "2021-09-30T17:04:37.106251",
   "version": "2.3.3"
  }
 },
 "nbformat": 4,
 "nbformat_minor": 5
}
