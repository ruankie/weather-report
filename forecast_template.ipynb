{
 "cells": [
  {
   "cell_type": "code",
   "execution_count": 1,
   "id": "84eadd7d",
   "metadata": {},
   "outputs": [],
   "source": [
    "# import libraries\n",
    "from pyowm.owm import OWM\n",
    "import pandas as pd\n",
    "import seaborn as sns\n",
    "import matplotlib.pyplot as plt\n",
    "import pdfkit\n",
    "from my_api_key import api_key # replace with your own"
   ]
  },
  {
   "cell_type": "code",
   "execution_count": 2,
   "id": "4d43ddc5",
   "metadata": {},
   "outputs": [],
   "source": [
    "# Set API key\n",
    "owm = OWM(api_key=api_key)"
   ]
  },
  {
   "cell_type": "code",
   "execution_count": 3,
   "id": "f58ec60f",
   "metadata": {},
   "outputs": [],
   "source": [
    "# Define the default parameters\n",
    "# this will be changed with papermill\n",
    "city = 'Berlin,DE'"
   ]
  },
  {
   "cell_type": "markdown",
   "id": "c3328d3c",
   "metadata": {},
   "source": [
    "# 1. Fetch weather data with PyOWM API"
   ]
  },
  {
   "cell_type": "code",
   "execution_count": 4,
   "id": "59675724",
   "metadata": {},
   "outputs": [
    {
     "ename": "UnauthorizedError",
     "evalue": "Invalid API Key provided",
     "output_type": "error",
     "traceback": [
      "\u001b[1;31m---------------------------------------------------------------------------\u001b[0m",
      "\u001b[1;31mUnauthorizedError\u001b[0m                         Traceback (most recent call last)",
      "\u001b[1;32mC:\\Users\\RUANPR~1\\AppData\\Local\\Temp/ipykernel_9652/4195014722.py\u001b[0m in \u001b[0;36m<module>\u001b[1;34m\u001b[0m\n\u001b[0;32m      1\u001b[0m \u001b[1;31m# Instantiate forecast object and fetch weather information about city\u001b[0m\u001b[1;33m\u001b[0m\u001b[1;33m\u001b[0m\u001b[1;33m\u001b[0m\u001b[0m\n\u001b[0;32m      2\u001b[0m \u001b[0mmgr\u001b[0m \u001b[1;33m=\u001b[0m \u001b[0mowm\u001b[0m\u001b[1;33m.\u001b[0m\u001b[0mweather_manager\u001b[0m\u001b[1;33m(\u001b[0m\u001b[1;33m)\u001b[0m\u001b[1;33m\u001b[0m\u001b[1;33m\u001b[0m\u001b[0m\n\u001b[1;32m----> 3\u001b[1;33m \u001b[0mforecast\u001b[0m \u001b[1;33m=\u001b[0m \u001b[0mmgr\u001b[0m\u001b[1;33m.\u001b[0m\u001b[0mforecast_at_place\u001b[0m\u001b[1;33m(\u001b[0m\u001b[0mcity\u001b[0m\u001b[1;33m,\u001b[0m \u001b[1;34m'daily'\u001b[0m\u001b[1;33m)\u001b[0m\u001b[1;33m.\u001b[0m\u001b[0mforecast\u001b[0m\u001b[1;33m\u001b[0m\u001b[1;33m\u001b[0m\u001b[0m\n\u001b[0m",
      "\u001b[1;32m~\\anaconda3\\envs\\papermill-weather\\lib\\site-packages\\pyowm\\weatherapi25\\weather_manager.py\u001b[0m in \u001b[0;36mforecast_at_place\u001b[1;34m(self, name, interval, limit)\u001b[0m\n\u001b[0;32m    289\u001b[0m         \u001b[1;32melse\u001b[0m\u001b[1;33m:\u001b[0m\u001b[1;33m\u001b[0m\u001b[1;33m\u001b[0m\u001b[0m\n\u001b[0;32m    290\u001b[0m             \u001b[1;32mraise\u001b[0m \u001b[0mValueError\u001b[0m\u001b[1;33m(\u001b[0m\u001b[1;34m\"Unsupported time interval for forecast\"\u001b[0m\u001b[1;33m)\u001b[0m\u001b[1;33m\u001b[0m\u001b[1;33m\u001b[0m\u001b[0m\n\u001b[1;32m--> 291\u001b[1;33m         \u001b[0m_\u001b[0m\u001b[1;33m,\u001b[0m \u001b[0mjson_data\u001b[0m \u001b[1;33m=\u001b[0m \u001b[0mself\u001b[0m\u001b[1;33m.\u001b[0m\u001b[0mhttp_client\u001b[0m\u001b[1;33m.\u001b[0m\u001b[0mget_json\u001b[0m\u001b[1;33m(\u001b[0m\u001b[0muri\u001b[0m\u001b[1;33m,\u001b[0m \u001b[0mparams\u001b[0m\u001b[1;33m=\u001b[0m\u001b[0mparams\u001b[0m\u001b[1;33m)\u001b[0m\u001b[1;33m\u001b[0m\u001b[1;33m\u001b[0m\u001b[0m\n\u001b[0m\u001b[0;32m    292\u001b[0m         \u001b[0mfc\u001b[0m \u001b[1;33m=\u001b[0m \u001b[0mforecast\u001b[0m\u001b[1;33m.\u001b[0m\u001b[0mForecast\u001b[0m\u001b[1;33m.\u001b[0m\u001b[0mfrom_dict\u001b[0m\u001b[1;33m(\u001b[0m\u001b[0mjson_data\u001b[0m\u001b[1;33m)\u001b[0m\u001b[1;33m\u001b[0m\u001b[1;33m\u001b[0m\u001b[0m\n\u001b[0;32m    293\u001b[0m         \u001b[1;32mif\u001b[0m \u001b[0mfc\u001b[0m \u001b[1;32mis\u001b[0m \u001b[1;32mnot\u001b[0m \u001b[1;32mNone\u001b[0m\u001b[1;33m:\u001b[0m\u001b[1;33m\u001b[0m\u001b[1;33m\u001b[0m\u001b[0m\n",
      "\u001b[1;32m~\\anaconda3\\envs\\papermill-weather\\lib\\site-packages\\pyowm\\commons\\http_client.py\u001b[0m in \u001b[0;36mget_json\u001b[1;34m(self, path, params, headers)\u001b[0m\n\u001b[0;32m    138\u001b[0m         \u001b[1;32mexcept\u001b[0m \u001b[0mrequests\u001b[0m\u001b[1;33m.\u001b[0m\u001b[0mexceptions\u001b[0m\u001b[1;33m.\u001b[0m\u001b[0mTimeout\u001b[0m\u001b[1;33m:\u001b[0m\u001b[1;33m\u001b[0m\u001b[1;33m\u001b[0m\u001b[0m\n\u001b[0;32m    139\u001b[0m             \u001b[1;32mraise\u001b[0m \u001b[0mexceptions\u001b[0m\u001b[1;33m.\u001b[0m\u001b[0mTimeoutError\u001b[0m\u001b[1;33m(\u001b[0m\u001b[1;34m'API call timeouted'\u001b[0m\u001b[1;33m)\u001b[0m\u001b[1;33m\u001b[0m\u001b[1;33m\u001b[0m\u001b[0m\n\u001b[1;32m--> 140\u001b[1;33m         \u001b[0mHttpClient\u001b[0m\u001b[1;33m.\u001b[0m\u001b[0mcheck_status_code\u001b[0m\u001b[1;33m(\u001b[0m\u001b[0mresp\u001b[0m\u001b[1;33m.\u001b[0m\u001b[0mstatus_code\u001b[0m\u001b[1;33m,\u001b[0m \u001b[0mresp\u001b[0m\u001b[1;33m.\u001b[0m\u001b[0mtext\u001b[0m\u001b[1;33m)\u001b[0m\u001b[1;33m\u001b[0m\u001b[1;33m\u001b[0m\u001b[0m\n\u001b[0m\u001b[0;32m    141\u001b[0m         \u001b[1;32mtry\u001b[0m\u001b[1;33m:\u001b[0m\u001b[1;33m\u001b[0m\u001b[1;33m\u001b[0m\u001b[0m\n\u001b[0;32m    142\u001b[0m             \u001b[1;32mreturn\u001b[0m \u001b[0mresp\u001b[0m\u001b[1;33m.\u001b[0m\u001b[0mstatus_code\u001b[0m\u001b[1;33m,\u001b[0m \u001b[0mresp\u001b[0m\u001b[1;33m.\u001b[0m\u001b[0mjson\u001b[0m\u001b[1;33m(\u001b[0m\u001b[1;33m)\u001b[0m\u001b[1;33m\u001b[0m\u001b[1;33m\u001b[0m\u001b[0m\n",
      "\u001b[1;32m~\\anaconda3\\envs\\papermill-weather\\lib\\site-packages\\pyowm\\commons\\http_client.py\u001b[0m in \u001b[0;36mcheck_status_code\u001b[1;34m(cls, status_code, payload)\u001b[0m\n\u001b[0;32m    281\u001b[0m             \u001b[1;32mraise\u001b[0m \u001b[0mexceptions\u001b[0m\u001b[1;33m.\u001b[0m\u001b[0mAPIRequestError\u001b[0m\u001b[1;33m(\u001b[0m\u001b[0mpayload\u001b[0m\u001b[1;33m)\u001b[0m\u001b[1;33m\u001b[0m\u001b[1;33m\u001b[0m\u001b[0m\n\u001b[0;32m    282\u001b[0m         \u001b[1;32melif\u001b[0m \u001b[0mstatus_code\u001b[0m \u001b[1;33m==\u001b[0m \u001b[1;36m401\u001b[0m\u001b[1;33m:\u001b[0m\u001b[1;33m\u001b[0m\u001b[1;33m\u001b[0m\u001b[0m\n\u001b[1;32m--> 283\u001b[1;33m             \u001b[1;32mraise\u001b[0m \u001b[0mexceptions\u001b[0m\u001b[1;33m.\u001b[0m\u001b[0mUnauthorizedError\u001b[0m\u001b[1;33m(\u001b[0m\u001b[1;34m'Invalid API Key provided'\u001b[0m\u001b[1;33m)\u001b[0m\u001b[1;33m\u001b[0m\u001b[1;33m\u001b[0m\u001b[0m\n\u001b[0m\u001b[0;32m    284\u001b[0m         \u001b[1;32melif\u001b[0m \u001b[0mstatus_code\u001b[0m \u001b[1;33m==\u001b[0m \u001b[1;36m404\u001b[0m\u001b[1;33m:\u001b[0m\u001b[1;33m\u001b[0m\u001b[1;33m\u001b[0m\u001b[0m\n\u001b[0;32m    285\u001b[0m             \u001b[1;32mraise\u001b[0m \u001b[0mexceptions\u001b[0m\u001b[1;33m.\u001b[0m\u001b[0mNotFoundError\u001b[0m\u001b[1;33m(\u001b[0m\u001b[1;34m'Unable to find the resource'\u001b[0m\u001b[1;33m)\u001b[0m\u001b[1;33m\u001b[0m\u001b[1;33m\u001b[0m\u001b[0m\n",
      "\u001b[1;31mUnauthorizedError\u001b[0m: Invalid API Key provided"
     ]
    }
   ],
   "source": [
    "# Instantiate forecast object and fetch weather information about city\n",
    "mgr = owm.weather_manager()\n",
    "forecast = mgr.forecast_at_place(city, 'daily').forecast"
   ]
  },
  {
   "cell_type": "code",
   "execution_count": null,
   "id": "bfa2bc06",
   "metadata": {},
   "outputs": [],
   "source": [
    "\n",
    "# Create a dictionary to organize the forecast data for the city of interest\n",
    "dict_forecast = {\n",
    "    'datetime':[],\n",
    "    'clouds':[],\n",
    "    'humidity':[],\n",
    "    'temp':[],\n",
    "    'temp_max':[],\n",
    "    'temp_min':[],\n",
    "    'detailed_status':[],\n",
    "    'icon_url':[],\n",
    "    'rain_vol':[]\n",
    "}"
   ]
  },
  {
   "cell_type": "code",
   "execution_count": null,
   "id": "43f310d4",
   "metadata": {},
   "outputs": [],
   "source": [
    "#Itereate over forecast object acessing the weather features\n",
    "for weather in forecast:\n",
    "    dict_forecast['datetime'].append(str(weather.get_reference_time(timeformat='iso')))\n",
    "    dict_forecast['clouds'].append(weather.get_clouds())\n",
    "    dict_forecast['humidity'].append(weather.get_humidity())\n",
    "    dict_forecast['temp'].append(weather.get_temperature(unit='celsius').get('temp'))\n",
    "    dict_forecast['temp_max'].append(weather.get_temperature(unit='celsius').get('temp_max'))\n",
    "    dict_forecast['temp_min'].append(weather.get_temperature(unit='celsius').get('temp_min'))\n",
    "    \n",
    "    dict_forecast['detailed_status'].append(weather.get_detailed_status())\n",
    "    dict_forecast['icon_url'].append(weather.get_weather_icon_url())\n",
    "    if '3h' in weather.get_rain().keys():\n",
    "        dict_forecast['rain_vol'].append(weather.get_rain().get('3h'))\n",
    "    else:\n",
    "        dict_forecast['rain_vol'].append(0)"
   ]
  },
  {
   "cell_type": "code",
   "execution_count": null,
   "id": "a197ad9d",
   "metadata": {},
   "outputs": [],
   "source": [
    "# Create Dataframe from dictionary\n",
    "df = pd.DataFrame.from_dict(dict_forecast)\n",
    "df.head()"
   ]
  },
  {
   "cell_type": "markdown",
   "id": "65384a91",
   "metadata": {},
   "source": [
    "# 2. Create visualisations"
   ]
  },
  {
   "cell_type": "markdown",
   "id": "c2b56f2c",
   "metadata": {},
   "source": [
    "### Temparature plot"
   ]
  },
  {
   "cell_type": "code",
   "execution_count": null,
   "id": "3e795154",
   "metadata": {},
   "outputs": [],
   "source": [
    "# Plotting the temperature for the next 5 days\n",
    "fig = plt.figure()\n",
    "sns_plot = sns.lineplot(data=df_temp, style=\"event\",markers=True, dashes=False)\n",
    "sns_plot.set_title(f'Temperature forecast for the next 5 days', fontsize=20)\n",
    "sns_plot.set_xlabel('Date', fontsize=14)\n",
    "sns_plot.set_ylabel('Temperature Celsius', fontsize=14)\n",
    "sns_plot.set_xticklabels(df_temp.index, rotation=20)\n",
    "sns_plot.grid(True)\n",
    "\n",
    "sns_plot.legend(labels=['Min. Temperature', 'Max Temperature', 'Average Temperature'])\n",
    "fig.set_size_inches(12, 6)\n",
    "\n",
    "temperature_plot = f\"{city.split(',')[0].replace(' ','_')}_temperature.png\"\n",
    "sns_plot.figure.savefig(temperature_plot, \n",
    "                  dpi=300, facecolor='w', \n",
    "                  orientation='portrait',\n",
    "                  bbox_inches='tight')"
   ]
  },
  {
   "cell_type": "markdown",
   "id": "7283801e",
   "metadata": {},
   "source": [
    "### Humidity, rain and clouds plot"
   ]
  },
  {
   "cell_type": "code",
   "execution_count": null,
   "id": "85e57bce",
   "metadata": {},
   "outputs": [],
   "source": [
    "# Create a Dataframe with total expected volume for rain on each day\n",
    "df_rain_per_day = df.resample('D', on='datetime').sum()[['rain_vol']]\n",
    "df_rain_per_day.index = df_rain_per_day.index.date"
   ]
  },
  {
   "cell_type": "code",
   "execution_count": null,
   "id": "7e47d044",
   "metadata": {},
   "outputs": [],
   "source": [
    "fig = plt.figure()\n",
    "# Lineplot for humidity and clouds\n",
    "ax1 = fig.add_subplot(211)\n",
    "ax1 = sns.lineplot(data=df_mean[['clouds', 'humidity']], markers=True, dashes=False)\n",
    "ax1.set_xticks([])\n",
    "ax1.set_title(f'Expected humidity and rain volume for the next 5 days', fontsize=20)\n",
    "ax1.set_ylabel('Percentage', fontsize=14)\n",
    "ax1.grid(True)\n",
    "\n",
    "# Barplot for total rain per day\n",
    "ax2 = fig.add_subplot(212)\n",
    "ax2 = sns.barplot(x=df_rain_per_day.index, y='rain_vol', \n",
    "                  data=df_rain_per_day,\n",
    "                  palette=\"Blues_d\")\n",
    "ax2.set_xticklabels(df_temp.index, rotation=30)\n",
    "ax2.set_ylabel('Total Rain Volume in mm', fontsize=14)\n",
    "ax2.set_xlabel('Date', fontsize=14)\n",
    "fig.set_size_inches(12, 6)\n",
    "\n",
    "rain_humidity_plot = f\"{city.split(',')[0].replace(' ','_')}_rain_humidity.png\"\n",
    "fig.savefig(rain_humidity_plot, \n",
    "              dpi=300, facecolor='w', \n",
    "              orientation='portrait',\n",
    "              bbox_inches='tight')"
   ]
  },
  {
   "cell_type": "markdown",
   "id": "d6427b10",
   "metadata": {},
   "source": [
    "# 3. Create PDF report"
   ]
  },
  {
   "cell_type": "code",
   "execution_count": null,
   "id": "464a370c",
   "metadata": {},
   "outputs": [],
   "source": [
    "# Defining start and end date for the analysis\n",
    "today = str(df_mean.index.min()).replace('-', '/')\n",
    "last_day = str(df_mean.index.max()).replace('-', '/')"
   ]
  },
  {
   "cell_type": "code",
   "execution_count": null,
   "id": "c64ba2e2",
   "metadata": {},
   "outputs": [],
   "source": [
    "# HTML template to add our data and plots\n",
    "report_template = f'''\n",
    "<!DOCTYPE html>\n",
    "    <html>\n",
    "      <head>\n",
    "        <meta charset='utf-8'>\n",
    "        <title>Weather Forecast with PyOWM</title>\n",
    "        <link rel='stylesheet' href='report.css'>\n",
    "          <style>\n",
    "          h1 {{\n",
    "          font-family: Arial;\n",
    "          font-size: 300%;\n",
    "          }}\n",
    "          h2 {{\n",
    "          font-family: Arial;\n",
    "          font-size: 200%;\n",
    "          }}\n",
    "          @page {{\n",
    "          size: 7in 9.25in;\n",
    "          margin: 27mm 16mm 27mm 16mm;\n",
    "          }}\n",
    "          </style>                       \n",
    "      </head>\n",
    "      <h1 align=\"center\">Weather forecast for {city}</h1>\n",
    "      <h2 align=\"center\">Initial date: {today}</h2>\n",
    "      <h2 align=\"center\">Final date: {last_day}</h2>\n",
    "        \n",
    "      <figure>\n",
    "        <img src=\"{temperature_plot}\" width=\"1200\" height=\"600\">\n",
    "      </figure>\n",
    "      <figure>\n",
    "        <img src=\"{rain_humidity_plot}\" width=\"1200\" height=\"600\">\n",
    "      </figure>      \n",
    "    </html>\n",
    "'''"
   ]
  },
  {
   "cell_type": "code",
   "execution_count": null,
   "id": "036e0366",
   "metadata": {},
   "outputs": [],
   "source": [
    "# Save HTML string to file\n",
    "html_report = f\"{city.split(',')[0].replace(' ','_')}_report.html\"\n",
    "with open(html_report, \"w\") as r:\n",
    "    r.write(report_template)"
   ]
  },
  {
   "cell_type": "code",
   "execution_count": null,
   "id": "c7693aa9",
   "metadata": {},
   "outputs": [],
   "source": [
    "# Use pdfkit to create the pdf report from the \n",
    "pdfkit.from_file(html_report, f\"{city.split(',')[0].replace(' ', '_')}_weather_report_for.pdf\")"
   ]
  },
  {
   "cell_type": "code",
   "execution_count": null,
   "id": "1d1b3984",
   "metadata": {},
   "outputs": [],
   "source": []
  },
  {
   "cell_type": "code",
   "execution_count": null,
   "id": "0c2a29ff",
   "metadata": {},
   "outputs": [],
   "source": []
  }
 ],
 "metadata": {
  "kernelspec": {
   "display_name": "Python 3 (ipykernel)",
   "language": "python",
   "name": "python3"
  },
  "language_info": {
   "codemirror_mode": {
    "name": "ipython",
    "version": 3
   },
   "file_extension": ".py",
   "mimetype": "text/x-python",
   "name": "python",
   "nbconvert_exporter": "python",
   "pygments_lexer": "ipython3",
   "version": "3.7.10"
  }
 },
 "nbformat": 4,
 "nbformat_minor": 5
}
