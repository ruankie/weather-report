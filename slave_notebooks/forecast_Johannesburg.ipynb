{
 "cells": [
  {
   "cell_type": "code",
   "execution_count": 1,
   "id": "84eadd7d",
   "metadata": {
    "execution": {
     "iopub.execute_input": "2021-10-01T09:36:13.543248Z",
     "iopub.status.busy": "2021-10-01T09:36:13.543248Z",
     "iopub.status.idle": "2021-10-01T09:36:13.751024Z",
     "shell.execute_reply": "2021-10-01T09:36:13.751024Z"
    },
    "papermill": {
     "duration": 0.223363,
     "end_time": "2021-10-01T09:36:13.751024",
     "exception": false,
     "start_time": "2021-10-01T09:36:13.527661",
     "status": "completed"
    },
    "tags": []
   },
   "outputs": [],
   "source": [
    "# import libraries\n",
    "from pyowm.owm import OWM\n",
    "import pandas as pd\n",
    "import seaborn as sns\n",
    "import matplotlib.pyplot as plt\n",
    "import pdfkit\n",
    "import datetime\n",
    "from my_api_key import api_key # replace with your own"
   ]
  },
  {
   "cell_type": "code",
   "execution_count": 2,
   "id": "4d43ddc5",
   "metadata": {
    "execution": {
     "iopub.execute_input": "2021-10-01T09:36:13.766624Z",
     "iopub.status.busy": "2021-10-01T09:36:13.766624Z",
     "iopub.status.idle": "2021-10-01T09:36:13.782469Z",
     "shell.execute_reply": "2021-10-01T09:36:13.782469Z"
    },
    "papermill": {
     "duration": 0.031445,
     "end_time": "2021-10-01T09:36:13.782469",
     "exception": false,
     "start_time": "2021-10-01T09:36:13.751024",
     "status": "completed"
    },
    "tags": []
   },
   "outputs": [],
   "source": [
    "# Set API key\n",
    "owm = OWM(api_key=api_key)"
   ]
  },
  {
   "cell_type": "code",
   "execution_count": 3,
   "id": "f58ec60f",
   "metadata": {
    "execution": {
     "iopub.execute_input": "2021-10-01T09:36:13.792534Z",
     "iopub.status.busy": "2021-10-01T09:36:13.792534Z",
     "iopub.status.idle": "2021-10-01T09:36:13.808263Z",
     "shell.execute_reply": "2021-10-01T09:36:13.808263Z"
    },
    "papermill": {
     "duration": 0.015729,
     "end_time": "2021-10-01T09:36:13.808263",
     "exception": false,
     "start_time": "2021-10-01T09:36:13.792534",
     "status": "completed"
    },
    "tags": [
     "parameters"
    ]
   },
   "outputs": [],
   "source": [
    "# Define the default parameters\n",
    "# this will be changed with papermill\n",
    "CITY = ''"
   ]
  },
  {
   "cell_type": "code",
   "execution_count": 4,
   "id": "c8224679",
   "metadata": {
    "execution": {
     "iopub.execute_input": "2021-10-01T09:36:13.823795Z",
     "iopub.status.busy": "2021-10-01T09:36:13.823795Z",
     "iopub.status.idle": "2021-10-01T09:36:13.839481Z",
     "shell.execute_reply": "2021-10-01T09:36:13.839481Z"
    },
    "papermill": {
     "duration": 0.031218,
     "end_time": "2021-10-01T09:36:13.839481",
     "exception": false,
     "start_time": "2021-10-01T09:36:13.808263",
     "status": "completed"
    },
    "tags": [
     "injected-parameters"
    ]
   },
   "outputs": [],
   "source": [
    "# Parameters\n",
    "CITY = \"Johannesburg\"\n"
   ]
  },
  {
   "cell_type": "code",
   "execution_count": 5,
   "id": "294d3919",
   "metadata": {
    "execution": {
     "iopub.execute_input": "2021-10-01T09:36:13.855046Z",
     "iopub.status.busy": "2021-10-01T09:36:13.855046Z",
     "iopub.status.idle": "2021-10-01T09:36:13.870706Z",
     "shell.execute_reply": "2021-10-01T09:36:13.870706Z"
    },
    "papermill": {
     "duration": 0.031225,
     "end_time": "2021-10-01T09:36:13.870706",
     "exception": false,
     "start_time": "2021-10-01T09:36:13.839481",
     "status": "completed"
    },
    "tags": []
   },
   "outputs": [],
   "source": [
    "# include your own locations\n",
    "coords_dict = {\n",
    "    'Johannesburg': {'lat':-26.193203, 'lon':28.030471},\n",
    "    'Berlin': {'lat':52.520283, 'lon':13.404808}, \n",
    "    'New York': {'lat':40.709765, 'lon':-74.007790}, \n",
    "    'Sao Paulo': {'lat':-23.607585, 'lon':-46.631223}, \n",
    "}"
   ]
  },
  {
   "cell_type": "markdown",
   "id": "c3328d3c",
   "metadata": {
    "papermill": {
     "duration": 0.0,
     "end_time": "2021-10-01T09:36:13.886328",
     "exception": false,
     "start_time": "2021-10-01T09:36:13.886328",
     "status": "completed"
    },
    "tags": []
   },
   "source": [
    "# 1. Fetch weather data with PyOWM API"
   ]
  },
  {
   "cell_type": "code",
   "execution_count": 6,
   "id": "59675724",
   "metadata": {
    "execution": {
     "iopub.execute_input": "2021-10-01T09:36:13.917545Z",
     "iopub.status.busy": "2021-10-01T09:36:13.917545Z",
     "iopub.status.idle": "2021-10-01T09:36:14.921067Z",
     "shell.execute_reply": "2021-10-01T09:36:14.921067Z"
    },
    "papermill": {
     "duration": 1.01911,
     "end_time": "2021-10-01T09:36:14.921067",
     "exception": false,
     "start_time": "2021-10-01T09:36:13.901957",
     "status": "completed"
    },
    "tags": []
   },
   "outputs": [],
   "source": [
    "# Instantiate forecast object and fetch weather information about city\n",
    "mgr = owm.weather_manager()\n",
    "one_call = mgr.one_call(lat=coords_dict[CITY]['lat'], lon=coords_dict[CITY]['lon'])"
   ]
  },
  {
   "cell_type": "code",
   "execution_count": 7,
   "id": "bfa2bc06",
   "metadata": {
    "execution": {
     "iopub.execute_input": "2021-10-01T09:36:14.936251Z",
     "iopub.status.busy": "2021-10-01T09:36:14.936251Z",
     "iopub.status.idle": "2021-10-01T09:36:14.951876Z",
     "shell.execute_reply": "2021-10-01T09:36:14.951876Z"
    },
    "papermill": {
     "duration": 0.030809,
     "end_time": "2021-10-01T09:36:14.951876",
     "exception": false,
     "start_time": "2021-10-01T09:36:14.921067",
     "status": "completed"
    },
    "tags": []
   },
   "outputs": [],
   "source": [
    "\n",
    "# Create a dictionary to organize the forecast data for the city of interest\n",
    "dict_forecast = {\n",
    "    'datetime':[],\n",
    "    'clouds':[],\n",
    "    'humidity':[],\n",
    "    'temp':[],\n",
    "    'temp_max':[],\n",
    "    'temp_min':[],\n",
    "    'detailed_status':[],\n",
    "    'icon_url':[],\n",
    "    #'rain_vol':[]\n",
    "}"
   ]
  },
  {
   "cell_type": "code",
   "execution_count": 8,
   "id": "43f310d4",
   "metadata": {
    "execution": {
     "iopub.execute_input": "2021-10-01T09:36:14.967502Z",
     "iopub.status.busy": "2021-10-01T09:36:14.967502Z",
     "iopub.status.idle": "2021-10-01T09:36:14.983128Z",
     "shell.execute_reply": "2021-10-01T09:36:14.983128Z"
    },
    "papermill": {
     "duration": 0.031252,
     "end_time": "2021-10-01T09:36:14.983128",
     "exception": false,
     "start_time": "2021-10-01T09:36:14.951876",
     "status": "completed"
    },
    "tags": []
   },
   "outputs": [],
   "source": [
    "#Itereate over forecast object acessing the weather features\n",
    "for day in range(5):\n",
    "    dict_forecast['datetime'].append(datetime.datetime.fromtimestamp(one_call.forecast_daily[day].ref_time).strftime('%Y-%m-%d'))\n",
    "    dict_forecast['clouds'].append(one_call.forecast_daily[day].clouds)\n",
    "    dict_forecast['humidity'].append(one_call.forecast_daily[day].humidity)\n",
    "    dict_forecast['temp'].append(one_call.forecast_daily[day].temperature('celsius')['day'])\n",
    "    dict_forecast['temp_max'].append(one_call.forecast_daily[day].temperature('celsius')['max'])\n",
    "    dict_forecast['temp_min'].append(one_call.forecast_daily[day].temperature('celsius')['min'])\n",
    "    \n",
    "    dict_forecast['detailed_status'].append(one_call.forecast_daily[day].detailed_status)\n",
    "    dict_forecast['icon_url'].append(one_call.forecast_daily[day].weather_icon_url())\n",
    "    #if '3h' in weather.get_rain().keys():\n",
    "    #    dict_forecast['rain_vol'].append(weather.get_rain().get('3h'))\n",
    "    #else:\n",
    "    #    dict_forecast['rain_vol'].append(0)"
   ]
  },
  {
   "cell_type": "code",
   "execution_count": 9,
   "id": "a197ad9d",
   "metadata": {
    "execution": {
     "iopub.execute_input": "2021-10-01T09:36:14.998770Z",
     "iopub.status.busy": "2021-10-01T09:36:14.998770Z",
     "iopub.status.idle": "2021-10-01T09:36:15.030001Z",
     "shell.execute_reply": "2021-10-01T09:36:15.030001Z"
    },
    "papermill": {
     "duration": 0.046873,
     "end_time": "2021-10-01T09:36:15.030001",
     "exception": false,
     "start_time": "2021-10-01T09:36:14.983128",
     "status": "completed"
    },
    "tags": []
   },
   "outputs": [
    {
     "data": {
      "text/html": [
       "<div>\n",
       "<style scoped>\n",
       "    .dataframe tbody tr th:only-of-type {\n",
       "        vertical-align: middle;\n",
       "    }\n",
       "\n",
       "    .dataframe tbody tr th {\n",
       "        vertical-align: top;\n",
       "    }\n",
       "\n",
       "    .dataframe thead th {\n",
       "        text-align: right;\n",
       "    }\n",
       "</style>\n",
       "<table border=\"1\" class=\"dataframe\">\n",
       "  <thead>\n",
       "    <tr style=\"text-align: right;\">\n",
       "      <th></th>\n",
       "      <th>clouds</th>\n",
       "      <th>humidity</th>\n",
       "      <th>temp</th>\n",
       "      <th>temp_max</th>\n",
       "      <th>temp_min</th>\n",
       "      <th>detailed_status</th>\n",
       "      <th>icon_url</th>\n",
       "    </tr>\n",
       "    <tr>\n",
       "      <th>datetime</th>\n",
       "      <th></th>\n",
       "      <th></th>\n",
       "      <th></th>\n",
       "      <th></th>\n",
       "      <th></th>\n",
       "      <th></th>\n",
       "      <th></th>\n",
       "    </tr>\n",
       "  </thead>\n",
       "  <tbody>\n",
       "    <tr>\n",
       "      <th>2021-10-01</th>\n",
       "      <td>97</td>\n",
       "      <td>76</td>\n",
       "      <td>16.17</td>\n",
       "      <td>18.41</td>\n",
       "      <td>13.48</td>\n",
       "      <td>moderate rain</td>\n",
       "      <td>http://openweathermap.org/img/wn/10d.png</td>\n",
       "    </tr>\n",
       "    <tr>\n",
       "      <th>2021-10-02</th>\n",
       "      <td>78</td>\n",
       "      <td>56</td>\n",
       "      <td>18.00</td>\n",
       "      <td>21.31</td>\n",
       "      <td>13.24</td>\n",
       "      <td>light rain</td>\n",
       "      <td>http://openweathermap.org/img/wn/10d.png</td>\n",
       "    </tr>\n",
       "    <tr>\n",
       "      <th>2021-10-03</th>\n",
       "      <td>0</td>\n",
       "      <td>19</td>\n",
       "      <td>20.79</td>\n",
       "      <td>24.10</td>\n",
       "      <td>12.72</td>\n",
       "      <td>clear sky</td>\n",
       "      <td>http://openweathermap.org/img/wn/01d.png</td>\n",
       "    </tr>\n",
       "    <tr>\n",
       "      <th>2021-10-04</th>\n",
       "      <td>97</td>\n",
       "      <td>59</td>\n",
       "      <td>16.39</td>\n",
       "      <td>20.72</td>\n",
       "      <td>12.46</td>\n",
       "      <td>overcast clouds</td>\n",
       "      <td>http://openweathermap.org/img/wn/04d.png</td>\n",
       "    </tr>\n",
       "    <tr>\n",
       "      <th>2021-10-05</th>\n",
       "      <td>27</td>\n",
       "      <td>46</td>\n",
       "      <td>19.07</td>\n",
       "      <td>23.17</td>\n",
       "      <td>11.08</td>\n",
       "      <td>light rain</td>\n",
       "      <td>http://openweathermap.org/img/wn/10d.png</td>\n",
       "    </tr>\n",
       "  </tbody>\n",
       "</table>\n",
       "</div>"
      ],
      "text/plain": [
       "            clouds  humidity   temp  temp_max  temp_min  detailed_status  \\\n",
       "datetime                                                                   \n",
       "2021-10-01      97        76  16.17     18.41     13.48    moderate rain   \n",
       "2021-10-02      78        56  18.00     21.31     13.24       light rain   \n",
       "2021-10-03       0        19  20.79     24.10     12.72        clear sky   \n",
       "2021-10-04      97        59  16.39     20.72     12.46  overcast clouds   \n",
       "2021-10-05      27        46  19.07     23.17     11.08       light rain   \n",
       "\n",
       "                                            icon_url  \n",
       "datetime                                              \n",
       "2021-10-01  http://openweathermap.org/img/wn/10d.png  \n",
       "2021-10-02  http://openweathermap.org/img/wn/10d.png  \n",
       "2021-10-03  http://openweathermap.org/img/wn/01d.png  \n",
       "2021-10-04  http://openweathermap.org/img/wn/04d.png  \n",
       "2021-10-05  http://openweathermap.org/img/wn/10d.png  "
      ]
     },
     "execution_count": 9,
     "metadata": {},
     "output_type": "execute_result"
    }
   ],
   "source": [
    "# Create Dataframe from dictionary\n",
    "df = pd.DataFrame.from_dict(dict_forecast)\n",
    "df = df.set_index('datetime')\n",
    "df"
   ]
  },
  {
   "cell_type": "markdown",
   "id": "65384a91",
   "metadata": {
    "papermill": {
     "duration": 0.015589,
     "end_time": "2021-10-01T09:36:15.045590",
     "exception": false,
     "start_time": "2021-10-01T09:36:15.030001",
     "status": "completed"
    },
    "tags": []
   },
   "source": [
    "# 2. Create visualisations"
   ]
  },
  {
   "cell_type": "markdown",
   "id": "c2b56f2c",
   "metadata": {
    "papermill": {
     "duration": 0.015625,
     "end_time": "2021-10-01T09:36:15.061215",
     "exception": false,
     "start_time": "2021-10-01T09:36:15.045590",
     "status": "completed"
    },
    "tags": []
   },
   "source": [
    "### Temparature plot"
   ]
  },
  {
   "cell_type": "code",
   "execution_count": 10,
   "id": "d43b012f",
   "metadata": {
    "execution": {
     "iopub.execute_input": "2021-10-01T09:36:15.092465Z",
     "iopub.status.busy": "2021-10-01T09:36:15.092465Z",
     "iopub.status.idle": "2021-10-01T09:36:15.108130Z",
     "shell.execute_reply": "2021-10-01T09:36:15.108130Z"
    },
    "papermill": {
     "duration": 0.031253,
     "end_time": "2021-10-01T09:36:15.108130",
     "exception": false,
     "start_time": "2021-10-01T09:36:15.076877",
     "status": "completed"
    },
    "tags": []
   },
   "outputs": [
    {
     "data": {
      "text/html": [
       "<div>\n",
       "<style scoped>\n",
       "    .dataframe tbody tr th:only-of-type {\n",
       "        vertical-align: middle;\n",
       "    }\n",
       "\n",
       "    .dataframe tbody tr th {\n",
       "        vertical-align: top;\n",
       "    }\n",
       "\n",
       "    .dataframe thead th {\n",
       "        text-align: right;\n",
       "    }\n",
       "</style>\n",
       "<table border=\"1\" class=\"dataframe\">\n",
       "  <thead>\n",
       "    <tr style=\"text-align: right;\">\n",
       "      <th></th>\n",
       "      <th>temp_min</th>\n",
       "      <th>temp_max</th>\n",
       "      <th>temp</th>\n",
       "    </tr>\n",
       "    <tr>\n",
       "      <th>datetime</th>\n",
       "      <th></th>\n",
       "      <th></th>\n",
       "      <th></th>\n",
       "    </tr>\n",
       "  </thead>\n",
       "  <tbody>\n",
       "    <tr>\n",
       "      <th>2021-10-01</th>\n",
       "      <td>13.48</td>\n",
       "      <td>18.41</td>\n",
       "      <td>16.17</td>\n",
       "    </tr>\n",
       "    <tr>\n",
       "      <th>2021-10-02</th>\n",
       "      <td>13.24</td>\n",
       "      <td>21.31</td>\n",
       "      <td>18.00</td>\n",
       "    </tr>\n",
       "    <tr>\n",
       "      <th>2021-10-03</th>\n",
       "      <td>12.72</td>\n",
       "      <td>24.10</td>\n",
       "      <td>20.79</td>\n",
       "    </tr>\n",
       "    <tr>\n",
       "      <th>2021-10-04</th>\n",
       "      <td>12.46</td>\n",
       "      <td>20.72</td>\n",
       "      <td>16.39</td>\n",
       "    </tr>\n",
       "    <tr>\n",
       "      <th>2021-10-05</th>\n",
       "      <td>11.08</td>\n",
       "      <td>23.17</td>\n",
       "      <td>19.07</td>\n",
       "    </tr>\n",
       "  </tbody>\n",
       "</table>\n",
       "</div>"
      ],
      "text/plain": [
       "            temp_min  temp_max   temp\n",
       "datetime                             \n",
       "2021-10-01     13.48     18.41  16.17\n",
       "2021-10-02     13.24     21.31  18.00\n",
       "2021-10-03     12.72     24.10  20.79\n",
       "2021-10-04     12.46     20.72  16.39\n",
       "2021-10-05     11.08     23.17  19.07"
      ]
     },
     "execution_count": 10,
     "metadata": {},
     "output_type": "execute_result"
    }
   ],
   "source": [
    "df_temp = df[['temp_min', 'temp_max', 'temp']]\n",
    "df_temp"
   ]
  },
  {
   "cell_type": "code",
   "execution_count": 11,
   "id": "3e795154",
   "metadata": {
    "execution": {
     "iopub.execute_input": "2021-10-01T09:36:15.139376Z",
     "iopub.status.busy": "2021-10-01T09:36:15.139376Z",
     "iopub.status.idle": "2021-10-01T09:36:16.208134Z",
     "shell.execute_reply": "2021-10-01T09:36:16.208134Z"
    },
    "papermill": {
     "duration": 1.100004,
     "end_time": "2021-10-01T09:36:16.208134",
     "exception": false,
     "start_time": "2021-10-01T09:36:15.108130",
     "status": "completed"
    },
    "tags": []
   },
   "outputs": [
    {
     "name": "stderr",
     "output_type": "stream",
     "text": [
      "C:\\Users\\Ruan Pretorius\\anaconda3\\envs\\papermill-weather\\lib\\site-packages\\ipykernel_launcher.py:7: UserWarning: FixedFormatter should only be used together with FixedLocator\n",
      "  import sys\n"
     ]
    },
    {
     "data": {
      "image/png": "[encoded data removed]",
      "text/plain": [
       "<Figure size 1200x600 with 1 Axes>"
      ]
     },
     "metadata": {},
     "output_type": "display_data"
    }
   ],
   "source": [
    "# Plotting the temperature for the next 5 days\n",
    "fig = plt.figure()\n",
    "sns_plot = sns.lineplot(data=df_temp, markers=True, dashes=False)\n",
    "sns_plot.set_title(f'Temperature forecast for the next 5 days', fontsize=20)\n",
    "sns_plot.set_xlabel('Date', fontsize=14)\n",
    "sns_plot.set_ylabel('Temperature ($^{\\circ} C$)', fontsize=14)\n",
    "sns_plot.set_xticklabels(df_temp.index, rotation=20)\n",
    "sns_plot.grid(True)\n",
    "\n",
    "sns_plot.legend(labels=['Min. Temperature', 'Max Temperature', 'Average Temperature'])\n",
    "fig.set_size_inches(12, 6)\n",
    "\n",
    "temperature_plot = f\"{CITY.split(',')[0].replace(' ','_')}_temperature.png\"\n",
    "sns_plot.figure.savefig(f'figures/{temperature_plot}', \n",
    "                  dpi=300, #facecolor='w', \n",
    "                  orientation='portrait',\n",
    "                  bbox_inches='tight')"
   ]
  },
  {
   "cell_type": "code",
   "execution_count": null,
   "id": "0c2a29ff",
   "metadata": {
    "papermill": {
     "duration": 0.015665,
     "end_time": "2021-10-01T09:36:16.239426",
     "exception": false,
     "start_time": "2021-10-01T09:36:16.223761",
     "status": "completed"
    },
    "tags": []
   },
   "outputs": [],
   "source": []
  }
 ],
 "metadata": {
  "kernelspec": {
   "display_name": "Python 3 (ipykernel)",
   "language": "python",
   "name": "python3"
  },
  "language_info": {
   "codemirror_mode": {
    "name": "ipython",
    "version": 3
   },
   "file_extension": ".py",
   "mimetype": "text/x-python",
   "name": "python",
   "nbconvert_exporter": "python",
   "pygments_lexer": "ipython3",
   "version": "3.7.10"
  },
  "papermill": {
   "default_parameters": {},
   "duration": 6.553703,
   "end_time": "2021-10-01T09:36:16.581639",
   "environment_variables": {},
   "exception": null,
   "input_path": "forecast_template.ipynb",
   "output_path": "slave_notebooks/forecast_Johannesburg.ipynb",
   "parameters": {
    "CITY": "Johannesburg"
   },
   "start_time": "2021-10-01T09:36:10.027936",
   "version": "2.3.3"
  }
 },
 "nbformat": 4,
 "nbformat_minor": 5
}